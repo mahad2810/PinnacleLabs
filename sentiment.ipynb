{
 "cells": [
  {
   "cell_type": "code",
   "execution_count": 9,
   "id": "306c3d2f-b36e-4bc9-8578-1003bbf68d7c",
   "metadata": {},
   "outputs": [
    {
     "name": "stderr",
     "output_type": "stream",
     "text": [
      "[nltk_data] Downloading package movie_reviews to\n",
      "[nltk_data]     C:\\Users\\ASUS\\AppData\\Roaming\\nltk_data...\n",
      "[nltk_data]   Package movie_reviews is already up-to-date!\n",
      "[nltk_data] Downloading package stopwords to\n",
      "[nltk_data]     C:\\Users\\ASUS\\AppData\\Roaming\\nltk_data...\n",
      "[nltk_data]   Package stopwords is already up-to-date!\n",
      "[nltk_data] Downloading package wordnet to\n",
      "[nltk_data]     C:\\Users\\ASUS\\AppData\\Roaming\\nltk_data...\n",
      "[nltk_data]   Package wordnet is already up-to-date!\n"
     ]
    },
    {
     "name": "stdout",
     "output_type": "stream",
     "text": [
      "Accuracy: 0.8\n",
      "\n",
      "Classification Report:\n",
      "               precision    recall  f1-score   support\n",
      "\n",
      "           0       0.82      0.77      0.79       199\n",
      "           1       0.78      0.83      0.81       201\n",
      "\n",
      "    accuracy                           0.80       400\n",
      "   macro avg       0.80      0.80      0.80       400\n",
      "weighted avg       0.80      0.80      0.80       400\n",
      "\n"
     ]
    },
    {
     "name": "stderr",
     "output_type": "stream",
     "text": [
      "No model was supplied, defaulted to distilbert/distilbert-base-uncased-finetuned-sst-2-english and revision 714eb0f (https://huggingface.co/distilbert/distilbert-base-uncased-finetuned-sst-2-english).\n",
      "Using a pipeline without specifying a model name and revision in production is not recommended.\n"
     ]
    },
    {
     "name": "stdout",
     "output_type": "stream",
     "text": [
      "Sentiment: [{'label': 'POSITIVE', 'score': 0.9998811483383179}]\n"
     ]
    }
   ],
   "source": [
    "import nltk\n",
    "nltk.download('movie_reviews')\n",
    "from nltk.corpus import movie_reviews\n",
    "\n",
    "doc=[(list(movie_reviews.words(fileid)),category)\n",
    "     for category in movie_reviews.categories()\n",
    "     for fileid in movie_reviews.fileids(category)]\n",
    "\n",
    "from nltk.corpus import stopwords\n",
    "from nltk.stem import WordNetLemmatizer\n",
    "import string\n",
    "nltk.download('stopwords')\n",
    "nltk.download('wordnet')\n",
    "\n",
    "lemmetizer_word=WordNetLemmatizer()\n",
    "swrd=set(stopwords.words('english'))\n",
    "\n",
    "def preprocess(words):\n",
    "    return[lemmetizer_word.lemmatize(word.lower()) for word in words\n",
    "           if word.lower() not in swrd and word not in string.punctuation]\n",
    "\n",
    "refined_data=[(preprocess(words),category) for words,category in doc]\n",
    "\n",
    "from sklearn.feature_extraction.text import CountVectorizer\n",
    "\n",
    "sentences=[\" \".join(words) for words,category in refined_data]\n",
    "category=[category for _,category in refined_data]\n",
    "\n",
    "BoW=CountVectorizer(max_features=2000)\n",
    "N=BoW.fit_transform(sentences).toarray()\n",
    "\n",
    "\n",
    "from sklearn.model_selection import train_test_split\n",
    "from sklearn.preprocessing import LabelEncoder\n",
    "\n",
    "int_value=LabelEncoder()\n",
    "Y=int_value.fit_transform(category)\n",
    "\n",
    "N_train,N_test,Y_train,Y_test=train_test_split(N,Y,test_size=0.2,random_state=42)\n",
    "\n",
    "from sklearn.linear_model import LogisticRegression\n",
    "\n",
    "sentiment=LogisticRegression()\n",
    "sentiment.fit(N_train,Y_train)\n",
    "\n",
    "from sklearn.metrics import classification_report, accuracy_score\n",
    "\n",
    "predict=sentiment.predict(N_test)\n",
    "\n",
    "print(\"Accuracy:\",accuracy_score(Y_test,predict))\n",
    "print(\"\\nClassification Report:\\n\", classification_report(Y_test,predict))\n",
    "\n",
    "from sklearn.feature_extraction.text import TfidfVectorizer\n",
    "\n",
    "vectorizer = TfidfVectorizer(max_features=3000)\n",
    "N = vectorizer.fit_transform([\" \".join(words) for words, _ in refined_data]).toarray()\n",
    "\n",
    "Y = [category for _, category in refined_data ]\n",
    "\n",
    "from transformers import pipeline\n",
    "\n",
    "sentiment_analyzer = pipeline(\"sentiment-analysis\")\n",
    "\n",
    "new_text = \"The movie was absolutely wonderful with amazing performances!\"\n",
    "result = sentiment_analyzer(new_text)\n",
    "print(\"Sentiment:\", result)"
   ]
  },
  {
   "cell_type": "code",
   "execution_count": null,
   "id": "e8638754-dc87-4513-a9a8-f2e9e95f011d",
   "metadata": {},
   "outputs": [],
   "source": []
  }
 ],
 "metadata": {
  "kernelspec": {
   "display_name": "Python 3 (ipykernel)",
   "language": "python",
   "name": "python3"
  },
  "language_info": {
   "codemirror_mode": {
    "name": "ipython",
    "version": 3
   },
   "file_extension": ".py",
   "mimetype": "text/x-python",
   "name": "python",
   "nbconvert_exporter": "python",
   "pygments_lexer": "ipython3",
   "version": "3.11.5"
  }
 },
 "nbformat": 4,
 "nbformat_minor": 5
}
